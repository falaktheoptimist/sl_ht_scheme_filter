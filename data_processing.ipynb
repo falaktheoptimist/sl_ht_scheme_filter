{
 "cells": [
  {
   "cell_type": "code",
   "execution_count": 45,
   "metadata": {},
   "outputs": [],
   "source": [
    "import os\n",
    "import re\n",
    "from pathlib import Path\n",
    "from ast import literal_eval\n",
    "\n",
    "import pandas as pd\n",
    "from bs4 import BeautifulSoup\n",
    "from langchain.llms import Clarifai\n",
    "from langchain import PromptTemplate\n",
    "from langchain.document_loaders import BSHTMLLoader\n"
   ]
  },
  {
   "cell_type": "code",
   "execution_count": 6,
   "metadata": {},
   "outputs": [],
   "source": [
    "\n",
    "def get_text_model():\n",
    "    PAT = \"\"\n",
    "    USER_ID = \"openai\"\n",
    "    APP_ID = \"chat-completion\"\n",
    "    MODEL_ID = \"GPT-4\"\n",
    "    llm = Clarifai(pat=PAT, user_id=USER_ID, app_id=APP_ID, model_id=MODEL_ID)\n",
    "    return llm\n",
    "\n",
    "def read_html_files(html_paths):\n",
    "    docs = []\n",
    "    for path in html_paths:\n",
    "        loader = BSHTMLLoader(path)\n",
    "        doc = loader.load()[0]\n",
    "        lines = doc.page_content.split(\"\\n\")\n",
    "        filtered_lines = [line for line in lines if line.strip()]\n",
    "        docs.append(\"\\n\".join(filtered_lines))\n",
    "    return docs\n",
    "\n",
    "def get_prompt(text):\n",
    "    prompt_template = \"\"\"Analyze the provided text to extract eligibility criteria for \n",
    "the following fields: Gender, Occupations, and Category, based on information from a \n",
    "government scheme. The eligible options for each field are as follows:\n",
    "1. Gender: [\"Male\", \"Female\", \"Others\", \"None\"]\n",
    "2. Occupations: [\"Student\", \"Farmers\", \"Retired\", \"None\"]\n",
    "3. Category: [\"SC\", \"ST\", \"OBC\", \"General\", \"None\"]\n",
    "\n",
    "Text to Analyze: {text}\n",
    "\n",
    "\n",
    "Output Format: Only return a json object wrapped around by \"<json> </json>\" tags\n",
    "\n",
    "Example: <json>{{\"gender\": [\"value_1\", \"value_2\", ...], \"occupation\": [\"value_1\", \"value_2\", ...], \"category\": [\"value_1\", \"value_2\", ...]}}</json>\n",
    "\n",
    "Note: \n",
    "* Ensure that the extracted values for the eligibility criteria are from the provided options only.\n",
    "\n",
    "Response:\"\"\"\n",
    "    prompt = PromptTemplate(template=prompt_template, input_variables=[\"text\"])\n",
    "    return prompt.format(text=text)\n"
   ]
  },
  {
   "cell_type": "code",
   "execution_count": 9,
   "metadata": {},
   "outputs": [
    {
     "name": "stdout",
     "output_type": "stream",
     "text": [
      "File: women_tn_2.html, Response: <json>{\"gender\": [\"Female\"], \"occupation\": [\"None\"], \"category\": [\"None\"]}</json>\n",
      "File: women_tn_1.html, Response: <json>{\"gender\": [\"Female\"], \"occupation\": [\"None\"], \"category\": [\"None\"]}</json>\n",
      "File: sc_st_tn_2.html, Response: <json>{\"gender\": [\"None\"], \"occupation\": [\"None\"], \"category\": [\"SC\", \"ST\"]}</json>\n",
      "File: student_gj_3.html, Response: <json>{\"gender\": [\"None\"], \"occupation\": [\"Student\"], \"category\": [\"None\"]}</json>\n",
      "File: student_gj_1.html, Response: <json>{\"gender\": [\"Male\", \"Female\"], \"occupation\": [\"Student\"], \"category\": [\"None\"]}</json>\n",
      "File: students_tn_2.html, Response: <json>{\"gender\": [\"None\"], \"occupation\": [\"Student\"], \"category\": [\"None\"]}</json>\n",
      "File: famers_tn_3.html, Response: <json>{\"gender\": [\"None\"], \"occupation\": [\"Farmers\"], \"category\": [\"None\"]}</json>\n",
      "File: sc_st_tn_1.html, Response: <json>{\"gender\": [\"None\"], \"occupation\": [\"Student\"], \"category\": [\"SC\", \"ST\"]}</json>\n",
      "File: woment_tn_3.html, Response: <json>{\"gender\": [\"Female\"], \"occupation\": [\"None\"], \"category\": [\"None\"]}</json>\n",
      "File: students_gj_2.html, Response: <json>{\"gender\": [\"None\"], \"occupation\": [\"Student\"], \"category\": [\"None\"]}</json>\n",
      "File: sc_st_tn_3.html, Response: <json>{\"gender\": [\"None\"], \"occupation\": [\"Student\"], \"category\": [\"SC\", \"ST\"]}</json>\n",
      "File: famers_tn_2.html, Response: <json>{\"gender\": [\"None\"], \"occupation\": [\"Farmers\"], \"category\": [\"None\"]}</json>\n",
      "File: famers_tn_1.html, Response: <json>{\"gender\": [\"None\"], \"occupation\": [\"Farmers\"], \"category\": [\"None\"]}</json>\n",
      "File: students_tn_1.html, Response: <json>{\"gender\": [\"None\"], \"occupation\": [\"Farmers\", \"Student\"], \"category\": [\"None\"]}</json>\n",
      "File: students_tn_3.html, Response: <json>{\"gender\": [\"None\"], \"occupation\": [\"Student\"], \"category\": [\"None\"]}</json>\n"
     ]
    }
   ],
   "source": [
    "llm = get_text_model()\n",
    "data_path = \"/home/vk/data/temp/data\"\n",
    "html_paths = [os.path.join(data_path, path) \n",
    "              for path in os.listdir(data_path) if \".html\" in path]\n",
    "docs = read_html_files(html_paths)\n",
    "for doc, path in zip(docs, html_paths):\n",
    "    prompt = get_prompt(doc)\n",
    "    response = llm(prompt)\n",
    "    print(f\"File: {os.path.basename(path)}, Response: {response}\")\n",
    "\n"
   ]
  },
  {
   "cell_type": "code",
   "execution_count": 10,
   "metadata": {},
   "outputs": [],
   "source": [
    "responses = \"\"\"File: women_tn_2.html, Response: <json>{\"gender\": [\"Female\"], \"occupation\": [\"None\"], \"category\": [\"None\"]}</json>\n",
    "File: women_tn_1.html, Response: <json>{\"gender\": [\"Female\"], \"occupation\": [\"None\"], \"category\": [\"None\"]}</json>\n",
    "File: sc_st_tn_2.html, Response: <json>{\"gender\": [\"None\"], \"occupation\": [\"None\"], \"category\": [\"SC\", \"ST\"]}</json>\n",
    "File: student_gj_3.html, Response: <json>{\"gender\": [\"None\"], \"occupation\": [\"Student\"], \"category\": [\"None\"]}</json>\n",
    "File: student_gj_1.html, Response: <json>{\"gender\": [\"Male\", \"Female\"], \"occupation\": [\"Student\"], \"category\": [\"None\"]}</json>\n",
    "File: students_tn_2.html, Response: <json>{\"gender\": [\"None\"], \"occupation\": [\"Student\"], \"category\": [\"None\"]}</json>\n",
    "File: famers_tn_3.html, Response: <json>{\"gender\": [\"None\"], \"occupation\": [\"Farmers\"], \"category\": [\"None\"]}</json>\n",
    "File: sc_st_tn_1.html, Response: <json>{\"gender\": [\"None\"], \"occupation\": [\"Student\"], \"category\": [\"SC\", \"ST\"]}</json>\n",
    "File: woment_tn_3.html, Response: <json>{\"gender\": [\"Female\"], \"occupation\": [\"None\"], \"category\": [\"None\"]}</json>\n",
    "File: students_gj_2.html, Response: <json>{\"gender\": [\"None\"], \"occupation\": [\"Student\"], \"category\": [\"None\"]}</json>\n",
    "File: sc_st_tn_3.html, Response: <json>{\"gender\": [\"None\"], \"occupation\": [\"Student\"], \"category\": [\"SC\", \"ST\"]}</json>\n",
    "File: famers_tn_2.html, Response: <json>{\"gender\": [\"None\"], \"occupation\": [\"Farmers\"], \"category\": [\"None\"]}</json>\n",
    "File: famers_tn_1.html, Response: <json>{\"gender\": [\"None\"], \"occupation\": [\"Farmers\"], \"category\": [\"None\"]}</json>\n",
    "File: students_tn_1.html, Response: <json>{\"gender\": [\"None\"], \"occupation\": [\"Farmers\", \"Student\"], \"category\": [\"None\"]}</json>\n",
    "File: students_tn_3.html, Response: <json>{\"gender\": [\"None\"], \"occupation\": [\"Student\"], \"category\": [\"None\"]}</json>\"\"\""
   ]
  },
  {
   "cell_type": "code",
   "execution_count": 46,
   "metadata": {},
   "outputs": [],
   "source": [
    "def get_page_link(html_content):\n",
    "    soup = BeautifulSoup(html_content, \"html.parser\")\n",
    "    if \"gujarat\" in html_content:\n",
    "        tag = soup.find(\"a\", {\"title\": \"Skip to Main Content\"})\n",
    "        pattern = r\"https://sje.gujarat.gov.in/.{4}/schemes/\\d+\"\n",
    "        link =re.search(pattern, tag[\"href\"]).group()\n",
    "        return link\n",
    "    else:\n",
    "        tag = soup.find(\"a\", class_=\"increase\")\n",
    "        return tag[\"href\"][:-1]\n",
    "\n",
    "\n",
    "def parse_response(response):\n",
    "    file_pattern = r\"(?<=File: ).*html\"\n",
    "    file_name = re.search(file_pattern, response).group()\n",
    "    dict_pattern = f\"(?<=<json>).*(?=</json>)\"\n",
    "    dict_string = re.search(dict_pattern, response).group()\n",
    "    response = literal_eval(dict_string)\n",
    "    response[\"file_name\"] = file_name\n",
    "    return response\n",
    "\n",
    "\n",
    "data = []\n",
    "for response, path, doc in zip(responses.split(\"\\n\"), html_paths, docs):\n",
    "    file_content = Path(path).read_text()\n",
    "    page_link = get_page_link(file_content)\n",
    "    record = parse_response(response)\n",
    "    record[\"url\"] = page_link\n",
    "    record[\"text\"] = doc\n",
    "    data.append(record)\n",
    "    \n",
    "pd.DataFrame(data).to_csv(\"database.csv\")    "
   ]
  },
  {
   "cell_type": "code",
   "execution_count": 43,
   "metadata": {},
   "outputs": [
    {
     "data": {
      "text/plain": [
       "'* CSV के रूप में संग्रहीत * req स्तंभों पर pd.eval के साथ पढ़ें * हमारे डेटासेट तैयार हैं * उपयोगकर्ता लिंग, व्यवसाय, श्रेणी से फ़ील्ड के लिए पूछें * जांचें यदि फ़ील्ड कोई नहीं है * फ़िल्टर निम्नलिखित स्थिति का उपयोग करके, या तो डेटा में कोई नहीं होना चाहिए या सूची में आवश्यक इनपुट होना चाहिए'"
      ]
     },
     "execution_count": 43,
     "metadata": {},
     "output_type": "execute_result"
    }
   ],
   "source": [
    "def get_text_model(pat):\n",
    "    USER_ID = \"facebook\"\n",
    "    APP_ID = \"translation\"\n",
    "    MODEL_ID = \"translation-english-to-hindi-text\"\n",
    "    llm = Clarifai(pat=pat, user_id=USER_ID, app_id=APP_ID, model_id=MODEL_ID)\n",
    "    return llm\n",
    "\n",
    "llm = get_text_model(\"2e47a12333004eafbd898b21e5bc94cf\")\n",
    "llm(\"\"\"* store as csv\n",
    "* read with pd.eval on req colums\n",
    "* we have our dataset ready\n",
    "\n",
    "* ask for fields from user gender, occupation, category\n",
    "* check if a field is not none\n",
    "* filter using following condition, either data should have none or should have the required entry in list\"\"\")\n"
   ]
  }
 ],
 "metadata": {
  "kernelspec": {
   "display_name": "env",
   "language": "python",
   "name": "python3"
  },
  "language_info": {
   "codemirror_mode": {
    "name": "ipython",
    "version": 3
   },
   "file_extension": ".py",
   "mimetype": "text/x-python",
   "name": "python",
   "nbconvert_exporter": "python",
   "pygments_lexer": "ipython3",
   "version": "3.10.12"
  },
  "orig_nbformat": 4
 },
 "nbformat": 4,
 "nbformat_minor": 2
}
